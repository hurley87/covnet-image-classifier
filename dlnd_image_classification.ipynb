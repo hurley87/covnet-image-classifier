{
 "cells": [
  {
   "cell_type": "markdown",
   "metadata": {
    "collapsed": true
   },
   "source": [
    "# Image Classification\n",
    "In this project, you'll classify images from the [CIFAR-10 dataset](https://www.cs.toronto.edu/~kriz/cifar.html).  The dataset consists of airplanes, dogs, cats, and other objects. You'll preprocess the images, then train a convolutional neural network on all the samples. The images need to be normalized and the labels need to be one-hot encoded.  You'll get to apply what you learned and build a convolutional, max pooling, dropout, and fully connected layers.  At the end, you'll get to see your neural network's predictions on the sample images.\n",
    "## Get the Data\n",
    "Run the following cell to download the [CIFAR-10 dataset for python](https://www.cs.toronto.edu/~kriz/cifar-10-python.tar.gz)."
   ]
  },
  {
   "cell_type": "code",
   "execution_count": 1,
   "metadata": {
    "collapsed": false
   },
   "outputs": [
    {
     "name": "stdout",
     "output_type": "stream",
     "text": [
      "All files found!\n"
     ]
    }
   ],
   "source": [
    "\"\"\"\n",
    "DON'T MODIFY ANYTHING IN THIS CELL THAT IS BELOW THIS LINE\n",
    "\"\"\"\n",
    "from urllib.request import urlretrieve\n",
    "from os.path import isfile, isdir\n",
    "from tqdm import tqdm\n",
    "import problem_unittests as tests\n",
    "import tarfile\n",
    "\n",
    "cifar10_dataset_folder_path = 'cifar-10-batches-py'\n",
    "\n",
    "# Use Floyd's cifar-10 dataset if present\n",
    "floyd_cifar10_location = '/input/cifar-10/python.tar.gz'\n",
    "if isfile(floyd_cifar10_location):\n",
    "    tar_gz_path = floyd_cifar10_location\n",
    "else:\n",
    "    tar_gz_path = 'cifar-10-python.tar.gz'\n",
    "\n",
    "class DLProgress(tqdm):\n",
    "    last_block = 0\n",
    "\n",
    "    def hook(self, block_num=1, block_size=1, total_size=None):\n",
    "        self.total = total_size\n",
    "        self.update((block_num - self.last_block) * block_size)\n",
    "        self.last_block = block_num\n",
    "\n",
    "if not isfile(tar_gz_path):\n",
    "    with DLProgress(unit='B', unit_scale=True, miniters=1, desc='CIFAR-10 Dataset') as pbar:\n",
    "        urlretrieve(\n",
    "            'https://www.cs.toronto.edu/~kriz/cifar-10-python.tar.gz',\n",
    "            tar_gz_path,\n",
    "            pbar.hook)\n",
    "\n",
    "if not isdir(cifar10_dataset_folder_path):\n",
    "    with tarfile.open(tar_gz_path) as tar:\n",
    "        tar.extractall()\n",
    "        tar.close()\n",
    "\n",
    "\n",
    "tests.test_folder_path(cifar10_dataset_folder_path)"
   ]
  },
  {
   "cell_type": "markdown",
   "metadata": {},
   "source": [
    "## Explore the Data\n",
    "The dataset is broken into batches to prevent your machine from running out of memory.  The CIFAR-10 dataset consists of 5 batches, named `data_batch_1`, `data_batch_2`, etc.. Each batch contains the labels and images that are one of the following:\n",
    "* airplane\n",
    "* automobile\n",
    "* bird\n",
    "* cat\n",
    "* deer\n",
    "* dog\n",
    "* frog\n",
    "* horse\n",
    "* ship\n",
    "* truck\n",
    "\n",
    "Understanding a dataset is part of making predictions on the data.  Play around with the code cell below by changing the `batch_id` and `sample_id`. The `batch_id` is the id for a batch (1-5). The `sample_id` is the id for a image and label pair in the batch.\n",
    "\n",
    "Ask yourself \"What are all possible labels?\", \"What is the range of values for the image data?\", \"Are the labels in order or random?\".  Answers to questions like these will help you preprocess the data and end up with better predictions."
   ]
  },
  {
   "cell_type": "code",
   "execution_count": 2,
   "metadata": {
    "collapsed": false
   },
   "outputs": [
    {
     "name": "stdout",
     "output_type": "stream",
     "text": [
      "\n",
      "Stats of batch 2:\n",
      "Samples: 10000\n",
      "Label Counts: {0: 984, 1: 1007, 2: 1010, 3: 995, 4: 1010, 5: 988, 6: 1008, 7: 1026, 8: 987, 9: 985}\n",
      "First 20 Labels: [1, 6, 6, 8, 8, 3, 4, 6, 0, 6, 0, 3, 6, 6, 5, 4, 8, 3, 2, 6]\n",
      "\n",
      "Example of Image 5:\n",
      "Image - Min Value: 3 Max Value: 219\n",
      "Image - Shape: (32, 32, 3)\n",
      "Label - Label Id: 3 Name: cat\n"
     ]
    },
    {
     "data": {
      "image/png": "[encoded data removed]",
      "text/plain": [
       "<matplotlib.figure.Figure at 0x114ea1d30>"
      ]
     },
     "metadata": {
      "image/png": {
       "height": 250,
       "width": 253
      }
     },
     "output_type": "display_data"
    }
   ],
   "source": [
    "%matplotlib inline\n",
    "%config InlineBackend.figure_format = 'retina'\n",
    "\n",
    "import helper\n",
    "import numpy as np\n",
    "\n",
    "# Explore the dataset\n",
    "batch_id = 2\n",
    "sample_id = 5\n",
    "helper.display_stats(cifar10_dataset_folder_path, batch_id, sample_id)"
   ]
  },
  {
   "cell_type": "markdown",
   "metadata": {},
   "source": [
    "## Implement Preprocess Functions\n",
    "### Normalize\n",
    "In the cell below, implement the `normalize` function to take in image data, `x`, and return it as a normalized Numpy array. The values should be in the range of 0 to 1, inclusive.  The return object should be the same shape as `x`."
   ]
  },
  {
   "cell_type": "code",
   "execution_count": 3,
   "metadata": {
    "collapsed": false
   },
   "outputs": [
    {
     "name": "stdout",
     "output_type": "stream",
     "text": [
      "Tests Passed\n"
     ]
    }
   ],
   "source": [
    "def normalize(x):\n",
    "    \"\"\"\n",
    "    Normalize a list of sample image data in the range of 0 to 1\n",
    "    : x: List of image data.  The image shape is (32, 32, 3)\n",
    "    : return: Numpy array of normalize data\n",
    "    \"\"\"\n",
    "    # TODO: Implement Function\n",
    "    max_val = np.max(x)\n",
    "    min_val = np.min(x)\n",
    "    \n",
    "    return (x - min_val) / (max_val - min_val) \n",
    "\n",
    "\n",
    "\"\"\"\n",
    "DON'T MODIFY ANYTHING IN THIS CELL THAT IS BELOW THIS LINE\n",
    "\"\"\"\n",
    "tests.test_normalize(normalize)"
   ]
  },
  {
   "cell_type": "markdown",
   "metadata": {},
   "source": [
    "### One-hot encode\n",
    "Just like the previous code cell, you'll be implementing a function for preprocessing.  This time, you'll implement the `one_hot_encode` function. The input, `x`, are a list of labels.  Implement the function to return the list of labels as One-Hot encoded Numpy array.  The possible values for labels are 0 to 9. The one-hot encoding function should return the same encoding for each value between each call to `one_hot_encode`.  Make sure to save the map of encodings outside the function.\n",
    "\n",
    "Hint: Don't reinvent the wheel."
   ]
  },
  {
   "cell_type": "code",
   "execution_count": 4,
   "metadata": {
    "collapsed": false
   },
   "outputs": [
    {
     "name": "stdout",
     "output_type": "stream",
     "text": [
      "Tests Passed\n"
     ]
    }
   ],
   "source": [
    "def one_hot_encode(x):\n",
    "    \"\"\"\n",
    "    One hot encode a list of sample labels. Return a one-hot encoded vector for each label.\n",
    "    : x: List of sample Labels\n",
    "    : return: Numpy array of one-hot encoded labels\n",
    "    \"\"\"\n",
    "    # TODO: Implement Function\n",
    "    hot_encodes = []\n",
    "    for i in range(10):\n",
    "        label_arr = []\n",
    "        for item in x:\n",
    "            if item == i:\n",
    "                label_arr.append(1)\n",
    "            else:\n",
    "                label_arr.append(0)\n",
    "        hot_encodes.append(label_arr)\n",
    "                \n",
    "    return np.array(hot_encodes).T\n",
    "\n",
    "\n",
    "\"\"\"\n",
    "DON'T MODIFY ANYTHING IN THIS CELL THAT IS BELOW THIS LINE\n",
    "\"\"\"\n",
    "tests.test_one_hot_encode(one_hot_encode)"
   ]
  },
  {
   "cell_type": "markdown",
   "metadata": {},
   "source": [
    "### Randomize Data\n",
    "As you saw from exploring the data above, the order of the samples are randomized.  It doesn't hurt to randomize it again, but you don't need to for this dataset."
   ]
  },
  {
   "cell_type": "markdown",
   "metadata": {},
   "source": [
    "## Preprocess all the data and save it\n",
    "Running the code cell below will preprocess all the CIFAR-10 data and save it to file. The code below also uses 10% of the training data for validation."
   ]
  },
  {
   "cell_type": "code",
   "execution_count": 5,
   "metadata": {
    "collapsed": false
   },
   "outputs": [],
   "source": [
    "\"\"\"\n",
    "DON'T MODIFY ANYTHING IN THIS CELL\n",
    "\"\"\"\n",
    "# Preprocess Training, Validation, and Testing Data\n",
    "helper.preprocess_and_save_data(cifar10_dataset_folder_path, normalize, one_hot_encode)"
   ]
  },
  {
   "cell_type": "markdown",
   "metadata": {},
   "source": [
    "# Check Point\n",
    "This is your first checkpoint.  If you ever decide to come back to this notebook or have to restart the notebook, you can start from here.  The preprocessed data has been saved to disk."
   ]
  },
  {
   "cell_type": "code",
   "execution_count": 6,
   "metadata": {
    "collapsed": true
   },
   "outputs": [],
   "source": [
    "\"\"\"\n",
    "DON'T MODIFY ANYTHING IN THIS CELL\n",
    "\"\"\"\n",
    "import pickle\n",
    "import problem_unittests as tests\n",
    "import helper\n",
    "\n",
    "# Load the Preprocessed Validation data\n",
    "valid_features, valid_labels = pickle.load(open('preprocess_validation.p', mode='rb'))"
   ]
  },
  {
   "cell_type": "markdown",
   "metadata": {},
   "source": [
    "## Build the network\n",
    "For the neural network, you'll build each layer into a function.  Most of the code you've seen has been outside of functions. To test your code more thoroughly, we require that you put each layer in a function.  This allows us to give you better feedback and test for simple mistakes using our unittests before you submit your project.\n",
    "\n",
    ">**Note:** If you're finding it hard to dedicate enough time for this course each week, we've provided a small shortcut to this part of the project. In the next couple of problems, you'll have the option to use classes from the [TensorFlow Layers](https://www.tensorflow.org/api_docs/python/tf/layers) or [TensorFlow Layers (contrib)](https://www.tensorflow.org/api_guides/python/contrib.layers) packages to build each layer, except the layers you build in the \"Convolutional and Max Pooling Layer\" section.  TF Layers is similar to Keras's and TFLearn's abstraction to layers, so it's easy to pickup.\n",
    "\n",
    ">However, if you would like to get the most out of this course, try to solve all the problems _without_ using anything from the TF Layers packages. You **can** still use classes from other packages that happen to have the same name as ones you find in TF Layers! For example, instead of using the TF Layers version of the `conv2d` class, [tf.layers.conv2d](https://www.tensorflow.org/api_docs/python/tf/layers/conv2d), you would want to use the TF Neural Network version of `conv2d`, [tf.nn.conv2d](https://www.tensorflow.org/api_docs/python/tf/nn/conv2d). \n",
    "\n",
    "Let's begin!\n",
    "\n",
    "### Input\n",
    "The neural network needs to read the image data, one-hot encoded labels, and dropout keep probability. Implement the following functions\n",
    "* Implement `neural_net_image_input`\n",
    " * Return a [TF Placeholder](https://www.tensorflow.org/api_docs/python/tf/placeholder)\n",
    " * Set the shape using `image_shape` with batch size set to `None`.\n",
    " * Name the TensorFlow placeholder \"x\" using the TensorFlow `name` parameter in the [TF Placeholder](https://www.tensorflow.org/api_docs/python/tf/placeholder).\n",
    "* Implement `neural_net_label_input`\n",
    " * Return a [TF Placeholder](https://www.tensorflow.org/api_docs/python/tf/placeholder)\n",
    " * Set the shape using `n_classes` with batch size set to `None`.\n",
    " * Name the TensorFlow placeholder \"y\" using the TensorFlow `name` parameter in the [TF Placeholder](https://www.tensorflow.org/api_docs/python/tf/placeholder).\n",
    "* Implement `neural_net_keep_prob_input`\n",
    " * Return a [TF Placeholder](https://www.tensorflow.org/api_docs/python/tf/placeholder) for dropout keep probability.\n",
    " * Name the TensorFlow placeholder \"keep_prob\" using the TensorFlow `name` parameter in the [TF Placeholder](https://www.tensorflow.org/api_docs/python/tf/placeholder).\n",
    "\n",
    "These names will be used at the end of the project to load your saved model.\n",
    "\n",
    "Note: `None` for shapes in TensorFlow allow for a dynamic size."
   ]
  },
  {
   "cell_type": "code",
   "execution_count": 7,
   "metadata": {
    "collapsed": false
   },
   "outputs": [
    {
     "name": "stdout",
     "output_type": "stream",
     "text": [
      "Image Input Tests Passed.\n",
      "Label Input Tests Passed.\n",
      "Keep Prob Tests Passed.\n"
     ]
    }
   ],
   "source": [
    "import tensorflow as tf\n",
    "\n",
    "def neural_net_image_input(image_shape):\n",
    "    \"\"\"\n",
    "    Return a Tensor for a batch of image input\n",
    "    : image_shape: Shape of the images\n",
    "    : return: Tensor for image input.\n",
    "    \"\"\"\n",
    "    # TODO: Implement Function\n",
    "    return tf.placeholder(tf.float32, [None, image_shape[0], image_shape[1], image_shape[2]], \"x\")\n",
    "\n",
    "\n",
    "def neural_net_label_input(n_classes):\n",
    "    \"\"\"\n",
    "    Return a Tensor for a batch of label input\n",
    "    : n_classes: Number of classes\n",
    "    : return: Tensor for label input.\n",
    "    \"\"\"\n",
    "    # TODO: Implement Function\n",
    "    return tf.placeholder(tf.float32, shape=[None, n_classes], name=\"y\")\n",
    "\n",
    "\n",
    "def neural_net_keep_prob_input():\n",
    "    \"\"\"\n",
    "    Return a Tensor for keep probability\n",
    "    : return: Tensor for keep probability.\n",
    "    \"\"\"\n",
    "    # TODO: Implement Function\n",
    "    return tf.placeholder(tf.float32, name=\"keep_prob\")\n",
    "\n",
    "\n",
    "\"\"\"\n",
    "DON'T MODIFY ANYTHING IN THIS CELL THAT IS BELOW THIS LINE\n",
    "\"\"\"\n",
    "tf.reset_default_graph()\n",
    "tests.test_nn_image_inputs(neural_net_image_input)\n",
    "tests.test_nn_label_inputs(neural_net_label_input)\n",
    "tests.test_nn_keep_prob_inputs(neural_net_keep_prob_input)"
   ]
  },
  {
   "cell_type": "markdown",
   "metadata": {},
   "source": [
    "### Convolution and Max Pooling Layer\n",
    "Convolution layers have a lot of success with images. For this code cell, you should implement the function `conv2d_maxpool` to apply convolution then max pooling:\n",
    "* Create the weight and bias using `conv_ksize`, `conv_num_outputs` and the shape of `x_tensor`.\n",
    "* Apply a convolution to `x_tensor` using weight and `conv_strides`.\n",
    " * We recommend you use same padding, but you're welcome to use any padding.\n",
    "* Add bias\n",
    "* Add a nonlinear activation to the convolution.\n",
    "* Apply Max Pooling using `pool_ksize` and `pool_strides`.\n",
    " * We recommend you use same padding, but you're welcome to use any padding.\n",
    "\n",
    "**Note:** You **can't** use [TensorFlow Layers](https://www.tensorflow.org/api_docs/python/tf/layers) or [TensorFlow Layers (contrib)](https://www.tensorflow.org/api_guides/python/contrib.layers) for **this** layer, but you can still use TensorFlow's [Neural Network](https://www.tensorflow.org/api_docs/python/tf/nn) package. You may still use the shortcut option for all the **other** layers."
   ]
  },
  {
   "cell_type": "code",
   "execution_count": 8,
   "metadata": {
    "collapsed": false
   },
   "outputs": [
    {
     "name": "stdout",
     "output_type": "stream",
     "text": [
      "Tests Passed\n"
     ]
    }
   ],
   "source": [
    "def conv2d_maxpool(x_tensor, conv_num_outputs, conv_ksize, conv_strides, pool_ksize, pool_strides):\n",
    "    \"\"\"\n",
    "    Apply convolution then max pooling to x_tensor\n",
    "    :param x_tensor: TensorFlow Tensor\n",
    "    :param conv_num_outputs: Number of outputs for the convolutional layer\n",
    "    :param conv_ksize: kernal size 2-D Tuple for the convolutional layer\n",
    "    :param conv_strides: Stride 2-D Tuple for convolution\n",
    "    :param pool_ksize: kernal size 2-D Tuple for pool\n",
    "    :param pool_strides: Stride 2-D Tuple for pool\n",
    "    : return: A tensor that represents convolution and max pooling of x_tensor\n",
    "    \"\"\"\n",
    "    # weight and bias\n",
    "    weights = tf.Variable(tf.truncated_normal([conv_ksize[0], conv_ksize[1], x_tensor.shape[3].value, conv_num_outputs], mean=0, stddev=0.1))\n",
    "    bias = tf.Variable(tf.zeros(conv_num_outputs))\n",
    "    \n",
    "    # apply convolution\n",
    "    layer = tf.nn.conv2d(x_tensor, weights, strides=[1, conv_strides[0], conv_strides[1], 1], padding='SAME')\n",
    "    \n",
    "    # apply bias and nonlinear activation\n",
    "    layer = tf.nn.bias_add(layer, bias)\n",
    "    layer = tf.nn.relu(layer)\n",
    "        \n",
    "    # apply max pooling\n",
    "    layer = tf.nn.max_pool(layer, ksize=[1, pool_ksize[0], pool_ksize[1], 1], strides=[1, pool_strides[0], pool_strides[1], 1], padding='SAME')\n",
    "    return layer\n",
    "\n",
    "\n",
    "\"\"\"\n",
    "DON'T MODIFY ANYTHING IN THIS CELL THAT IS BELOW THIS LINE\n",
    "\"\"\"\n",
    "tests.test_con_pool(conv2d_maxpool)"
   ]
  },
  {
   "cell_type": "markdown",
   "metadata": {},
   "source": [
    "### Flatten Layer\n",
    "Implement the `flatten` function to change the dimension of `x_tensor` from a 4-D tensor to a 2-D tensor.  The output should be the shape (*Batch Size*, *Flattened Image Size*). Shortcut option: you can use classes from the [TensorFlow Layers](https://www.tensorflow.org/api_docs/python/tf/layers) or [TensorFlow Layers (contrib)](https://www.tensorflow.org/api_guides/python/contrib.layers) packages for this layer. For more of a challenge, only use other TensorFlow packages."
   ]
  },
  {
   "cell_type": "code",
   "execution_count": 12,
   "metadata": {
    "collapsed": false
   },
   "outputs": [
    {
     "name": "stdout",
     "output_type": "stream",
     "text": [
      "Tests Passed\n"
     ]
    }
   ],
   "source": [
    "def flatten(x_tensor):\n",
    "    \"\"\"\n",
    "    Flatten x_tensor to (Batch Size, Flattened Image Size)\n",
    "    : x_tensor: A tensor of size (Batch Size, ...), where ... are the image dimensions.\n",
    "    : return: A tensor of size (Batch Size, Flattened Image Size).\n",
    "    \"\"\"\n",
    "    # TODO: Implement Function\n",
    "    return tf.contrib.layers.flatten(x_tensor)\n",
    "\n",
    "\n",
    "\"\"\"\n",
    "DON'T MODIFY ANYTHING IN THIS CELL THAT IS BELOW THIS LINE\n",
    "\"\"\"\n",
    "tests.test_flatten(flatten)"
   ]
  },
  {
   "cell_type": "markdown",
   "metadata": {},
   "source": [
    "### Fully-Connected Layer\n",
    "Implement the `fully_conn` function to apply a fully connected layer to `x_tensor` with the shape (*Batch Size*, *num_outputs*). Shortcut option: you can use classes from the [TensorFlow Layers](https://www.tensorflow.org/api_docs/python/tf/layers) or [TensorFlow Layers (contrib)](https://www.tensorflow.org/api_guides/python/contrib.layers) packages for this layer. For more of a challenge, only use other TensorFlow packages."
   ]
  },
  {
   "cell_type": "code",
   "execution_count": 13,
   "metadata": {
    "collapsed": false
   },
   "outputs": [
    {
     "name": "stdout",
     "output_type": "stream",
     "text": [
      "Tests Passed\n"
     ]
    }
   ],
   "source": [
    "def fully_conn(x_tensor, num_outputs):\n",
    "    \"\"\"\n",
    "    Apply a fully connected layer to x_tensor using weight and bias\n",
    "    : x_tensor: A 2-D tensor where the first dimension is batch size.\n",
    "    : num_outputs: The number of output that the new tensor should be.\n",
    "    : return: A 2-D tensor where the second dimension is num_outputs.\n",
    "    \"\"\"\n",
    "    # weights and bias\n",
    "    weights = tf.Variable(tf.truncated_normal([x_tensor.shape[1].value, num_outputs], mean=0, stddev=0.1))\n",
    "    bias = tf.Variable(tf.zeros(num_outputs))\n",
    "    \n",
    "    # hidden layer\n",
    "    layer = tf.nn.bias_add(tf.matmul(x_tensor, weights), bias)\n",
    "    \n",
    "    # activation\n",
    "    layer = tf.nn.relu(layer)\n",
    "    \n",
    "    return layer\n",
    "\n",
    "\n",
    "\"\"\"\n",
    "DON'T MODIFY ANYTHING IN THIS CELL THAT IS BELOW THIS LINE\n",
    "\"\"\"\n",
    "tests.test_fully_conn(fully_conn)"
   ]
  },
  {
   "cell_type": "markdown",
   "metadata": {},
   "source": [
    "### Output Layer\n",
    "Implement the `output` function to apply a fully connected layer to `x_tensor` with the shape (*Batch Size*, *num_outputs*). Shortcut option: you can use classes from the [TensorFlow Layers](https://www.tensorflow.org/api_docs/python/tf/layers) or [TensorFlow Layers (contrib)](https://www.tensorflow.org/api_guides/python/contrib.layers) packages for this layer. For more of a challenge, only use other TensorFlow packages.\n",
    "\n",
    "**Note:** Activation, softmax, or cross entropy should **not** be applied to this."
   ]
  },
  {
   "cell_type": "code",
   "execution_count": 14,
   "metadata": {
    "collapsed": false
   },
   "outputs": [
    {
     "name": "stdout",
     "output_type": "stream",
     "text": [
      "Tests Passed\n"
     ]
    }
   ],
   "source": [
    "def output(x_tensor, num_outputs):\n",
    "    \"\"\"\n",
    "    Apply a output layer to x_tensor using weight and bias\n",
    "    : x_tensor: A 2-D tensor where the first dimension is batch size.\n",
    "    : num_outputs: The number of output that the new tensor should be.\n",
    "    : return: A 2-D tensor where the second dimension is num_outputs.\n",
    "    \"\"\"\n",
    "    # weights and bias\n",
    "    weights = tf.Variable(tf.truncated_normal([x_tensor.shape[1].value, num_outputs], mean=0, stddev=0.1))\n",
    "    bias = tf.Variable(tf.zeros(num_outputs))\n",
    "    \n",
    "    # dot product\n",
    "    layer = tf.nn.bias_add(tf.matmul(x_tensor, weights), bias)\n",
    "    \n",
    "    return layer\n",
    "\n",
    "\n",
    "\"\"\"\n",
    "DON'T MODIFY ANYTHING IN THIS CELL THAT IS BELOW THIS LINE\n",
    "\"\"\"\n",
    "tests.test_output(output)"
   ]
  },
  {
   "cell_type": "markdown",
   "metadata": {},
   "source": [
    "### Create Convolutional Model\n",
    "Implement the function `conv_net` to create a convolutional neural network model. The function takes in a batch of images, `x`, and outputs logits.  Use the layers you created above to create this model:\n",
    "\n",
    "* Apply 1, 2, or 3 Convolution and Max Pool layers\n",
    "* Apply a Flatten Layer\n",
    "* Apply 1, 2, or 3 Fully Connected Layers\n",
    "* Apply an Output Layer\n",
    "* Return the output\n",
    "* Apply [TensorFlow's Dropout](https://www.tensorflow.org/api_docs/python/tf/nn/dropout) to one or more layers in the model using `keep_prob`. "
   ]
  },
  {
   "cell_type": "code",
   "execution_count": 15,
   "metadata": {
    "collapsed": false
   },
   "outputs": [
    {
     "name": "stdout",
     "output_type": "stream",
     "text": [
      "Neural Network Built!\n"
     ]
    }
   ],
   "source": [
    "def conv_net(x, keep_prob):\n",
    "    \"\"\"\n",
    "    Create a convolutional neural network model\n",
    "    : x: Placeholder tensor that holds image data.\n",
    "    : keep_prob: Placeholder tensor that hold dropout keep probability.\n",
    "    : return: Tensor that represents logits\n",
    "    \"\"\"\n",
    "    conv_ksize = [4,4]\n",
    "    conv_strides = [1,1]\n",
    "    pool_ksize = [2,2]\n",
    "    pool_strides = [2,2]\n",
    "    \n",
    "    # TODO: Apply 1, 2, or 3 Convolution and Max Pool layers\n",
    "    #    Play around with different number of outputs, kernel size and stride\n",
    "    # Function Definition from Above:\n",
    "    #    conv2d_maxpool(x_tensor, conv_num_outputs, conv_ksize, conv_strides, pool_ksize, pool_strides)\n",
    "    layer_1 = conv2d_maxpool(x, 16, conv_ksize, conv_strides, pool_ksize, pool_strides)\n",
    "    layer_2 = conv2d_maxpool(layer_1, 32, conv_ksize, conv_strides, pool_ksize, pool_strides)\n",
    "    layer_3 = conv2d_maxpool(layer_2, 64, conv_ksize, conv_strides, pool_ksize, pool_strides)\n",
    "\n",
    "    # TODO: Apply a Flatten Layer\n",
    "    # Function Definition from Above:\n",
    "    #   flatten(x_tensor)\n",
    "    flat_layer = flatten(layer_3)\n",
    "\n",
    "    # TODO: Apply 1, 2, or 3 Fully Connected Layers\n",
    "    #    Play around with different number of outputs\n",
    "    # Function Definition from Above:\n",
    "    #   fully_conn(x_tensor, num_outputs)\n",
    "    fully_connected = fully_conn(flat_layer, 10)\n",
    "    fully_connected = tf.nn.dropout(fully_connected, keep_prob)\n",
    "    \n",
    "    # TODO: Apply an Output Layer\n",
    "    #    Set this to the number of classes\n",
    "    # Function Definition from Above:\n",
    "    #   output(x_tensor, num_outputs)\n",
    "    output_layer = output(fully_connected, 10)\n",
    "    \n",
    "    # TODO: return output\n",
    "    return output_layer\n",
    "\n",
    "\n",
    "\"\"\"\n",
    "DON'T MODIFY ANYTHING IN THIS CELL THAT IS BELOW THIS LINE\n",
    "\"\"\"\n",
    "\n",
    "##############################\n",
    "## Build the Neural Network ##\n",
    "##############################\n",
    "\n",
    "# Remove previous weights, bias, inputs, etc..\n",
    "tf.reset_default_graph()\n",
    "\n",
    "# Inputs\n",
    "x = neural_net_image_input((32, 32, 3))\n",
    "y = neural_net_label_input(10)\n",
    "keep_prob = neural_net_keep_prob_input()\n",
    "\n",
    "# Model\n",
    "logits = conv_net(x, keep_prob)\n",
    "\n",
    "# Name logits Tensor, so that is can be loaded from disk after training\n",
    "logits = tf.identity(logits, name='logits')\n",
    "\n",
    "# Loss and Optimizer\n",
    "cost = tf.reduce_mean(tf.nn.softmax_cross_entropy_with_logits(logits=logits, labels=y))\n",
    "optimizer = tf.train.AdamOptimizer().minimize(cost)\n",
    "\n",
    "# Accuracy\n",
    "correct_pred = tf.equal(tf.argmax(logits, 1), tf.argmax(y, 1))\n",
    "accuracy = tf.reduce_mean(tf.cast(correct_pred, tf.float32), name='accuracy')\n",
    "\n",
    "tests.test_conv_net(conv_net)"
   ]
  },
  {
   "cell_type": "markdown",
   "metadata": {},
   "source": [
    "## Train the Neural Network\n",
    "### Single Optimization\n",
    "Implement the function `train_neural_network` to do a single optimization.  The optimization should use `optimizer` to optimize in `session` with a `feed_dict` of the following:\n",
    "* `x` for image input\n",
    "* `y` for labels\n",
    "* `keep_prob` for keep probability for dropout\n",
    "\n",
    "This function will be called for each batch, so `tf.global_variables_initializer()` has already been called.\n",
    "\n",
    "Note: Nothing needs to be returned. This function is only optimizing the neural network."
   ]
  },
  {
   "cell_type": "code",
   "execution_count": 16,
   "metadata": {
    "collapsed": false
   },
   "outputs": [
    {
     "name": "stdout",
     "output_type": "stream",
     "text": [
      "Tests Passed\n"
     ]
    }
   ],
   "source": [
    "def train_neural_network(session, optimizer, keep_probability, feature_batch, label_batch):\n",
    "    \"\"\"\n",
    "    Optimize the session on a batch of images and labels\n",
    "    : session: Current TensorFlow session\n",
    "    : optimizer: TensorFlow optimizer function\n",
    "    : keep_probability: keep probability\n",
    "    : feature_batch: Batch of Numpy image data\n",
    "    : label_batch: Batch of Numpy label data\n",
    "    \"\"\"\n",
    "    session.run(optimizer, feed_dict={\n",
    "        x: feature_batch,\n",
    "        y: label_batch,\n",
    "        keep_prob: keep_probability\n",
    "    })\n",
    "\n",
    "\n",
    "\"\"\"\n",
    "DON'T MODIFY ANYTHING IN THIS CELL THAT IS BELOW THIS LINE\n",
    "\"\"\"\n",
    "tests.test_train_nn(train_neural_network)"
   ]
  },
  {
   "cell_type": "markdown",
   "metadata": {},
   "source": [
    "### Show Stats\n",
    "Implement the function `print_stats` to print loss and validation accuracy.  Use the global variables `valid_features` and `valid_labels` to calculate validation accuracy.  Use a keep probability of `1.0` to calculate the loss and validation accuracy."
   ]
  },
  {
   "cell_type": "code",
   "execution_count": 17,
   "metadata": {
    "collapsed": false
   },
   "outputs": [],
   "source": [
    "def print_stats(session, feature_batch, label_batch, cost, accuracy):\n",
    "    \"\"\"\n",
    "    Print information about loss and validation accuracy\n",
    "    : session: Current TensorFlow session\n",
    "    : feature_batch: Batch of Numpy image data\n",
    "    : label_batch: Batch of Numpy label data\n",
    "    : cost: TensorFlow cost function\n",
    "    : accuracy: TensorFlow accuracy function\n",
    "    \"\"\"\n",
    "    loss = session.run(cost, feed_dict={ x: feature_batch, y: label_batch, keep_prob: 1.0})\n",
    "    validation_accuracy = session.run(accuracy, feed_dict={x: valid_features, y: valid_labels, keep_prob: 1})\n",
    "    \n",
    "    print('Loss: {:>10.4f} Validation Accuracy: {:6f}'.format(loss, validation_accuracy))"
   ]
  },
  {
   "cell_type": "markdown",
   "metadata": {},
   "source": [
    "### Hyperparameters\n",
    "Tune the following parameters:\n",
    "* Set `epochs` to the number of iterations until the network stops learning or start overfitting\n",
    "* Set `batch_size` to the highest number that your machine has memory for.  Most people set them to common sizes of memory:\n",
    " * 64\n",
    " * 128\n",
    " * 256\n",
    " * ...\n",
    "* Set `keep_probability` to the probability of keeping a node using dropout"
   ]
  },
  {
   "cell_type": "code",
   "execution_count": 22,
   "metadata": {
    "collapsed": true
   },
   "outputs": [],
   "source": [
    "# TODO: Tune Parameters\n",
    "epochs = 45\n",
    "batch_size = 128\n",
    "keep_probability = 0.5"
   ]
  },
  {
   "cell_type": "markdown",
   "metadata": {},
   "source": [
    "### Train on a Single CIFAR-10 Batch\n",
    "Instead of training the neural network on all the CIFAR-10 batches of data, let's use a single batch. This should save time while you iterate on the model to get a better accuracy.  Once the final validation accuracy is 50% or greater, run the model on all the data in the next section."
   ]
  },
  {
   "cell_type": "code",
   "execution_count": 23,
   "metadata": {
    "collapsed": false
   },
   "outputs": [
    {
     "name": "stdout",
     "output_type": "stream",
     "text": [
      "Checking the Training on a Single Batch...\n",
      "Epoch  1, CIFAR-10 Batch 1:  Loss:     2.2775 Validation Accuracy: 0.153200\n",
      "Epoch  2, CIFAR-10 Batch 1:  Loss:     2.2613 Validation Accuracy: 0.178600\n",
      "Epoch  3, CIFAR-10 Batch 1:  Loss:     2.2167 Validation Accuracy: 0.193800\n",
      "Epoch  4, CIFAR-10 Batch 1:  Loss:     2.2098 Validation Accuracy: 0.185800\n",
      "Epoch  5, CIFAR-10 Batch 1:  Loss:     2.1498 Validation Accuracy: 0.197200\n",
      "Epoch  6, CIFAR-10 Batch 1:  Loss:     2.1284 Validation Accuracy: 0.192400\n",
      "Epoch  7, CIFAR-10 Batch 1:  Loss:     2.1228 Validation Accuracy: 0.193800\n",
      "Epoch  8, CIFAR-10 Batch 1:  Loss:     2.1105 Validation Accuracy: 0.197200\n",
      "Epoch  9, CIFAR-10 Batch 1:  Loss:     2.1072 Validation Accuracy: 0.191800\n",
      "Epoch 10, CIFAR-10 Batch 1:  Loss:     2.0859 Validation Accuracy: 0.196800\n",
      "Epoch 11, CIFAR-10 Batch 1:  Loss:     2.0691 Validation Accuracy: 0.194200\n",
      "Epoch 12, CIFAR-10 Batch 1:  Loss:     2.0625 Validation Accuracy: 0.198000\n",
      "Epoch 13, CIFAR-10 Batch 1:  Loss:     2.0201 Validation Accuracy: 0.265000\n",
      "Epoch 14, CIFAR-10 Batch 1:  Loss:     1.9853 Validation Accuracy: 0.258000\n",
      "Epoch 15, CIFAR-10 Batch 1:  Loss:     2.0203 Validation Accuracy: 0.288800\n",
      "Epoch 16, CIFAR-10 Batch 1:  Loss:     1.9475 Validation Accuracy: 0.282800\n",
      "Epoch 17, CIFAR-10 Batch 1:  Loss:     1.9369 Validation Accuracy: 0.276400\n",
      "Epoch 18, CIFAR-10 Batch 1:  Loss:     1.9158 Validation Accuracy: 0.281800\n",
      "Epoch 19, CIFAR-10 Batch 1:  Loss:     1.8680 Validation Accuracy: 0.292200\n",
      "Epoch 20, CIFAR-10 Batch 1:  Loss:     1.8629 Validation Accuracy: 0.280800\n",
      "Epoch 21, CIFAR-10 Batch 1:  Loss:     1.8679 Validation Accuracy: 0.283000\n",
      "Epoch 22, CIFAR-10 Batch 1:  Loss:     1.8578 Validation Accuracy: 0.281000\n",
      "Epoch 23, CIFAR-10 Batch 1:  Loss:     1.8527 Validation Accuracy: 0.280800\n",
      "Epoch 24, CIFAR-10 Batch 1:  Loss:     1.8591 Validation Accuracy: 0.280000\n",
      "Epoch 25, CIFAR-10 Batch 1:  Loss:     1.8387 Validation Accuracy: 0.272200\n",
      "Epoch 26, CIFAR-10 Batch 1:  Loss:     1.8464 Validation Accuracy: 0.259600\n",
      "Epoch 27, CIFAR-10 Batch 1:  Loss:     1.8253 Validation Accuracy: 0.304000\n",
      "Epoch 28, CIFAR-10 Batch 1:  Loss:     1.8045 Validation Accuracy: 0.287400\n",
      "Epoch 29, CIFAR-10 Batch 1:  Loss:     1.7534 Validation Accuracy: 0.293400\n",
      "Epoch 30, CIFAR-10 Batch 1:  Loss:     1.7285 Validation Accuracy: 0.300000\n",
      "Epoch 31, CIFAR-10 Batch 1:  Loss:     1.7382 Validation Accuracy: 0.290000\n",
      "Epoch 32, CIFAR-10 Batch 1:  Loss:     1.7223 Validation Accuracy: 0.302400\n",
      "Epoch 33, CIFAR-10 Batch 1:  Loss:     1.7000 Validation Accuracy: 0.291600\n",
      "Epoch 34, CIFAR-10 Batch 1:  Loss:     1.6794 Validation Accuracy: 0.293400\n",
      "Epoch 35, CIFAR-10 Batch 1:  Loss:     1.6891 Validation Accuracy: 0.291800\n",
      "Epoch 36, CIFAR-10 Batch 1:  Loss:     1.7049 Validation Accuracy: 0.293600\n",
      "Epoch 37, CIFAR-10 Batch 1:  Loss:     1.6781 Validation Accuracy: 0.297800\n",
      "Epoch 38, CIFAR-10 Batch 1:  Loss:     1.6970 Validation Accuracy: 0.285800\n",
      "Epoch 39, CIFAR-10 Batch 1:  Loss:     1.7300 Validation Accuracy: 0.280400\n",
      "Epoch 40, CIFAR-10 Batch 1:  Loss:     1.6747 Validation Accuracy: 0.286400\n",
      "Epoch 41, CIFAR-10 Batch 1:  Loss:     1.6914 Validation Accuracy: 0.292400\n",
      "Epoch 42, CIFAR-10 Batch 1:  Loss:     1.6912 Validation Accuracy: 0.297800\n",
      "Epoch 43, CIFAR-10 Batch 1:  Loss:     1.6849 Validation Accuracy: 0.292200\n",
      "Epoch 44, CIFAR-10 Batch 1:  Loss:     1.6284 Validation Accuracy: 0.305800\n",
      "Epoch 45, CIFAR-10 Batch 1:  Loss:     1.5644 Validation Accuracy: 0.341800\n"
     ]
    }
   ],
   "source": [
    "\"\"\"\n",
    "DON'T MODIFY ANYTHING IN THIS CELL\n",
    "\"\"\"\n",
    "print('Checking the Training on a Single Batch...')\n",
    "with tf.Session() as sess:\n",
    "    # Initializing the variables\n",
    "    sess.run(tf.global_variables_initializer())\n",
    "    \n",
    "    # Training cycle\n",
    "    for epoch in range(epochs):\n",
    "        batch_i = 1\n",
    "        for batch_features, batch_labels in helper.load_preprocess_training_batch(batch_i, batch_size):\n",
    "            train_neural_network(sess, optimizer, keep_probability, batch_features, batch_labels)\n",
    "        print('Epoch {:>2}, CIFAR-10 Batch {}:  '.format(epoch + 1, batch_i), end='')\n",
    "        print_stats(sess, batch_features, batch_labels, cost, accuracy)"
   ]
  },
  {
   "cell_type": "markdown",
   "metadata": {},
   "source": [
    "### Fully Train the Model\n",
    "Now that you got a good accuracy with a single CIFAR-10 batch, try it with all five batches."
   ]
  },
  {
   "cell_type": "code",
   "execution_count": 24,
   "metadata": {
    "collapsed": false,
    "scrolled": false
   },
   "outputs": [
    {
     "name": "stdout",
     "output_type": "stream",
     "text": [
      "Training...\n",
      "Epoch  1, CIFAR-10 Batch 1:  Loss:     2.2337 Validation Accuracy: 0.183200\n",
      "Epoch  1, CIFAR-10 Batch 2:  Loss:     2.0624 Validation Accuracy: 0.228600\n",
      "Epoch  1, CIFAR-10 Batch 3:  Loss:     1.8253 Validation Accuracy: 0.256800\n",
      "Epoch  1, CIFAR-10 Batch 4:  Loss:     1.8631 Validation Accuracy: 0.272200\n",
      "Epoch  1, CIFAR-10 Batch 5:  Loss:     1.8367 Validation Accuracy: 0.292400\n",
      "Epoch  2, CIFAR-10 Batch 1:  Loss:     2.0148 Validation Accuracy: 0.298200\n",
      "Epoch  2, CIFAR-10 Batch 2:  Loss:     1.9443 Validation Accuracy: 0.299600\n",
      "Epoch  2, CIFAR-10 Batch 3:  Loss:     1.6682 Validation Accuracy: 0.313600\n",
      "Epoch  2, CIFAR-10 Batch 4:  Loss:     1.8066 Validation Accuracy: 0.316200\n",
      "Epoch  2, CIFAR-10 Batch 5:  Loss:     1.7586 Validation Accuracy: 0.317000\n",
      "Epoch  3, CIFAR-10 Batch 1:  Loss:     1.9657 Validation Accuracy: 0.306800\n",
      "Epoch  3, CIFAR-10 Batch 2:  Loss:     1.8705 Validation Accuracy: 0.341200\n",
      "Epoch  3, CIFAR-10 Batch 3:  Loss:     1.5711 Validation Accuracy: 0.343200\n",
      "Epoch  3, CIFAR-10 Batch 4:  Loss:     1.6834 Validation Accuracy: 0.343200\n",
      "Epoch  3, CIFAR-10 Batch 5:  Loss:     1.6458 Validation Accuracy: 0.343400\n",
      "Epoch  4, CIFAR-10 Batch 1:  Loss:     1.8345 Validation Accuracy: 0.370600\n",
      "Epoch  4, CIFAR-10 Batch 2:  Loss:     1.7957 Validation Accuracy: 0.375400\n",
      "Epoch  4, CIFAR-10 Batch 3:  Loss:     1.5568 Validation Accuracy: 0.358400\n",
      "Epoch  4, CIFAR-10 Batch 4:  Loss:     1.6593 Validation Accuracy: 0.368600\n",
      "Epoch  4, CIFAR-10 Batch 5:  Loss:     1.5963 Validation Accuracy: 0.372800\n",
      "Epoch  5, CIFAR-10 Batch 1:  Loss:     1.7798 Validation Accuracy: 0.369400\n",
      "Epoch  5, CIFAR-10 Batch 2:  Loss:     1.8007 Validation Accuracy: 0.361000\n",
      "Epoch  5, CIFAR-10 Batch 3:  Loss:     1.5477 Validation Accuracy: 0.381600\n",
      "Epoch  5, CIFAR-10 Batch 4:  Loss:     1.6269 Validation Accuracy: 0.378400\n",
      "Epoch  5, CIFAR-10 Batch 5:  Loss:     1.5769 Validation Accuracy: 0.387200\n",
      "Epoch  6, CIFAR-10 Batch 1:  Loss:     1.7074 Validation Accuracy: 0.378200\n",
      "Epoch  6, CIFAR-10 Batch 2:  Loss:     1.7196 Validation Accuracy: 0.387600\n",
      "Epoch  6, CIFAR-10 Batch 3:  Loss:     1.5198 Validation Accuracy: 0.390400\n",
      "Epoch  6, CIFAR-10 Batch 4:  Loss:     1.5943 Validation Accuracy: 0.388200\n",
      "Epoch  6, CIFAR-10 Batch 5:  Loss:     1.5404 Validation Accuracy: 0.387000\n",
      "Epoch  7, CIFAR-10 Batch 1:  Loss:     1.6870 Validation Accuracy: 0.407800\n",
      "Epoch  7, CIFAR-10 Batch 2:  Loss:     1.7213 Validation Accuracy: 0.401400\n",
      "Epoch  7, CIFAR-10 Batch 3:  Loss:     1.5335 Validation Accuracy: 0.388800\n",
      "Epoch  7, CIFAR-10 Batch 4:  Loss:     1.5818 Validation Accuracy: 0.420000\n",
      "Epoch  7, CIFAR-10 Batch 5:  Loss:     1.4885 Validation Accuracy: 0.415000\n",
      "Epoch  8, CIFAR-10 Batch 1:  Loss:     1.6052 Validation Accuracy: 0.411800\n",
      "Epoch  8, CIFAR-10 Batch 2:  Loss:     1.6145 Validation Accuracy: 0.428200\n",
      "Epoch  8, CIFAR-10 Batch 3:  Loss:     1.4716 Validation Accuracy: 0.425800\n",
      "Epoch  8, CIFAR-10 Batch 4:  Loss:     1.5396 Validation Accuracy: 0.421000\n",
      "Epoch  8, CIFAR-10 Batch 5:  Loss:     1.4444 Validation Accuracy: 0.435800\n",
      "Epoch  9, CIFAR-10 Batch 1:  Loss:     1.5959 Validation Accuracy: 0.430800\n",
      "Epoch  9, CIFAR-10 Batch 2:  Loss:     1.5989 Validation Accuracy: 0.450600\n",
      "Epoch  9, CIFAR-10 Batch 3:  Loss:     1.4618 Validation Accuracy: 0.423600\n",
      "Epoch  9, CIFAR-10 Batch 4:  Loss:     1.4795 Validation Accuracy: 0.444000\n",
      "Epoch  9, CIFAR-10 Batch 5:  Loss:     1.3796 Validation Accuracy: 0.452400\n",
      "Epoch 10, CIFAR-10 Batch 1:  Loss:     1.5177 Validation Accuracy: 0.444200\n",
      "Epoch 10, CIFAR-10 Batch 2:  Loss:     1.5319 Validation Accuracy: 0.470800\n",
      "Epoch 10, CIFAR-10 Batch 3:  Loss:     1.4108 Validation Accuracy: 0.449000\n",
      "Epoch 10, CIFAR-10 Batch 4:  Loss:     1.4399 Validation Accuracy: 0.459800\n",
      "Epoch 10, CIFAR-10 Batch 5:  Loss:     1.3360 Validation Accuracy: 0.463800\n",
      "Epoch 11, CIFAR-10 Batch 1:  Loss:     1.4378 Validation Accuracy: 0.483400\n",
      "Epoch 11, CIFAR-10 Batch 2:  Loss:     1.5111 Validation Accuracy: 0.474600\n",
      "Epoch 11, CIFAR-10 Batch 3:  Loss:     1.3170 Validation Accuracy: 0.483000\n",
      "Epoch 11, CIFAR-10 Batch 4:  Loss:     1.3647 Validation Accuracy: 0.469200\n",
      "Epoch 11, CIFAR-10 Batch 5:  Loss:     1.3483 Validation Accuracy: 0.477800\n",
      "Epoch 12, CIFAR-10 Batch 1:  Loss:     1.3795 Validation Accuracy: 0.489400\n",
      "Epoch 12, CIFAR-10 Batch 2:  Loss:     1.4568 Validation Accuracy: 0.484000\n",
      "Epoch 12, CIFAR-10 Batch 3:  Loss:     1.2533 Validation Accuracy: 0.493800\n",
      "Epoch 12, CIFAR-10 Batch 4:  Loss:     1.3407 Validation Accuracy: 0.488200\n",
      "Epoch 12, CIFAR-10 Batch 5:  Loss:     1.2364 Validation Accuracy: 0.503000\n",
      "Epoch 13, CIFAR-10 Batch 1:  Loss:     1.3120 Validation Accuracy: 0.485200\n",
      "Epoch 13, CIFAR-10 Batch 2:  Loss:     1.4201 Validation Accuracy: 0.462400\n",
      "Epoch 13, CIFAR-10 Batch 3:  Loss:     1.2267 Validation Accuracy: 0.509600\n",
      "Epoch 13, CIFAR-10 Batch 4:  Loss:     1.3093 Validation Accuracy: 0.493200\n",
      "Epoch 13, CIFAR-10 Batch 5:  Loss:     1.2445 Validation Accuracy: 0.501800\n",
      "Epoch 14, CIFAR-10 Batch 1:  Loss:     1.2659 Validation Accuracy: 0.514800\n",
      "Epoch 14, CIFAR-10 Batch 2:  Loss:     1.3284 Validation Accuracy: 0.501800\n",
      "Epoch 14, CIFAR-10 Batch 3:  Loss:     1.2376 Validation Accuracy: 0.507600\n",
      "Epoch 14, CIFAR-10 Batch 4:  Loss:     1.3197 Validation Accuracy: 0.517200\n",
      "Epoch 14, CIFAR-10 Batch 5:  Loss:     1.1646 Validation Accuracy: 0.518000\n",
      "Epoch 15, CIFAR-10 Batch 1:  Loss:     1.2750 Validation Accuracy: 0.497400\n",
      "Epoch 15, CIFAR-10 Batch 2:  Loss:     1.3541 Validation Accuracy: 0.509600\n",
      "Epoch 15, CIFAR-10 Batch 3:  Loss:     1.1781 Validation Accuracy: 0.533600\n",
      "Epoch 15, CIFAR-10 Batch 4:  Loss:     1.2279 Validation Accuracy: 0.515800\n",
      "Epoch 15, CIFAR-10 Batch 5:  Loss:     1.1773 Validation Accuracy: 0.534000\n",
      "Epoch 16, CIFAR-10 Batch 1:  Loss:     1.2099 Validation Accuracy: 0.524800\n",
      "Epoch 16, CIFAR-10 Batch 2:  Loss:     1.3385 Validation Accuracy: 0.491400\n",
      "Epoch 16, CIFAR-10 Batch 3:  Loss:     1.1593 Validation Accuracy: 0.527800\n",
      "Epoch 16, CIFAR-10 Batch 4:  Loss:     1.2407 Validation Accuracy: 0.517000\n",
      "Epoch 16, CIFAR-10 Batch 5:  Loss:     1.1236 Validation Accuracy: 0.537000\n",
      "Epoch 17, CIFAR-10 Batch 1:  Loss:     1.2188 Validation Accuracy: 0.505400\n",
      "Epoch 17, CIFAR-10 Batch 2:  Loss:     1.2670 Validation Accuracy: 0.510200\n",
      "Epoch 17, CIFAR-10 Batch 3:  Loss:     1.1267 Validation Accuracy: 0.541800\n",
      "Epoch 17, CIFAR-10 Batch 4:  Loss:     1.1645 Validation Accuracy: 0.525000\n",
      "Epoch 17, CIFAR-10 Batch 5:  Loss:     1.1050 Validation Accuracy: 0.533200\n",
      "Epoch 18, CIFAR-10 Batch 1:  Loss:     1.2063 Validation Accuracy: 0.506200\n",
      "Epoch 18, CIFAR-10 Batch 2:  Loss:     1.2664 Validation Accuracy: 0.527800\n",
      "Epoch 18, CIFAR-10 Batch 3:  Loss:     1.0633 Validation Accuracy: 0.542600\n",
      "Epoch 18, CIFAR-10 Batch 4:  Loss:     1.1535 Validation Accuracy: 0.525400\n",
      "Epoch 18, CIFAR-10 Batch 5:  Loss:     1.1292 Validation Accuracy: 0.546600\n",
      "Epoch 19, CIFAR-10 Batch 1:  Loss:     1.1078 Validation Accuracy: 0.538800\n",
      "Epoch 19, CIFAR-10 Batch 2:  Loss:     1.2514 Validation Accuracy: 0.536000\n",
      "Epoch 19, CIFAR-10 Batch 3:  Loss:     1.0537 Validation Accuracy: 0.553800\n",
      "Epoch 19, CIFAR-10 Batch 4:  Loss:     1.1639 Validation Accuracy: 0.544800\n",
      "Epoch 19, CIFAR-10 Batch 5:  Loss:     1.1644 Validation Accuracy: 0.514600\n",
      "Epoch 20, CIFAR-10 Batch 1:  Loss:     1.1019 Validation Accuracy: 0.536000\n",
      "Epoch 20, CIFAR-10 Batch 2:  Loss:     1.2116 Validation Accuracy: 0.526000\n",
      "Epoch 20, CIFAR-10 Batch 3:  Loss:     1.0265 Validation Accuracy: 0.556000\n",
      "Epoch 20, CIFAR-10 Batch 4:  Loss:     1.1148 Validation Accuracy: 0.549800\n",
      "Epoch 20, CIFAR-10 Batch 5:  Loss:     1.0597 Validation Accuracy: 0.566400\n",
      "Epoch 21, CIFAR-10 Batch 1:  Loss:     1.0718 Validation Accuracy: 0.527000\n",
      "Epoch 21, CIFAR-10 Batch 2:  Loss:     1.2062 Validation Accuracy: 0.539000\n",
      "Epoch 21, CIFAR-10 Batch 3:  Loss:     1.0607 Validation Accuracy: 0.549800\n",
      "Epoch 21, CIFAR-10 Batch 4:  Loss:     1.1824 Validation Accuracy: 0.522200\n",
      "Epoch 21, CIFAR-10 Batch 5:  Loss:     1.0558 Validation Accuracy: 0.556000\n",
      "Epoch 22, CIFAR-10 Batch 1:  Loss:     1.0612 Validation Accuracy: 0.550200\n",
      "Epoch 22, CIFAR-10 Batch 2:  Loss:     1.2178 Validation Accuracy: 0.544000\n",
      "Epoch 22, CIFAR-10 Batch 3:  Loss:     1.0249 Validation Accuracy: 0.558800\n",
      "Epoch 22, CIFAR-10 Batch 4:  Loss:     1.0917 Validation Accuracy: 0.560400\n",
      "Epoch 22, CIFAR-10 Batch 5:  Loss:     1.0103 Validation Accuracy: 0.565200\n",
      "Epoch 23, CIFAR-10 Batch 1:  Loss:     1.0213 Validation Accuracy: 0.552800\n",
      "Epoch 23, CIFAR-10 Batch 2:  Loss:     1.1813 Validation Accuracy: 0.538800\n",
      "Epoch 23, CIFAR-10 Batch 3:  Loss:     1.0132 Validation Accuracy: 0.567600\n",
      "Epoch 23, CIFAR-10 Batch 4:  Loss:     1.1298 Validation Accuracy: 0.553400\n",
      "Epoch 23, CIFAR-10 Batch 5:  Loss:     1.0795 Validation Accuracy: 0.523200\n",
      "Epoch 24, CIFAR-10 Batch 1:  Loss:     1.0365 Validation Accuracy: 0.536200\n",
      "Epoch 24, CIFAR-10 Batch 2:  Loss:     1.1638 Validation Accuracy: 0.544400\n",
      "Epoch 24, CIFAR-10 Batch 3:  Loss:     1.0559 Validation Accuracy: 0.561400\n",
      "Epoch 24, CIFAR-10 Batch 4:  Loss:     1.0614 Validation Accuracy: 0.558400\n",
      "Epoch 24, CIFAR-10 Batch 5:  Loss:     0.9747 Validation Accuracy: 0.562600\n",
      "Epoch 25, CIFAR-10 Batch 1:  Loss:     0.9895 Validation Accuracy: 0.554200\n",
      "Epoch 25, CIFAR-10 Batch 2:  Loss:     1.1190 Validation Accuracy: 0.540400\n",
      "Epoch 25, CIFAR-10 Batch 3:  Loss:     0.9893 Validation Accuracy: 0.566200\n",
      "Epoch 25, CIFAR-10 Batch 4:  Loss:     1.1028 Validation Accuracy: 0.546000\n",
      "Epoch 25, CIFAR-10 Batch 5:  Loss:     0.9143 Validation Accuracy: 0.570000\n",
      "Epoch 26, CIFAR-10 Batch 1:  Loss:     0.9666 Validation Accuracy: 0.554600\n",
      "Epoch 26, CIFAR-10 Batch 2:  Loss:     1.1303 Validation Accuracy: 0.552000\n",
      "Epoch 26, CIFAR-10 Batch 3:  Loss:     1.0319 Validation Accuracy: 0.547000\n",
      "Epoch 26, CIFAR-10 Batch 4:  Loss:     1.0495 Validation Accuracy: 0.547000\n",
      "Epoch 26, CIFAR-10 Batch 5:  Loss:     0.9140 Validation Accuracy: 0.572800\n",
      "Epoch 27, CIFAR-10 Batch 1:  Loss:     0.9568 Validation Accuracy: 0.565400\n",
      "Epoch 27, CIFAR-10 Batch 2:  Loss:     1.1014 Validation Accuracy: 0.541400\n",
      "Epoch 27, CIFAR-10 Batch 3:  Loss:     0.9784 Validation Accuracy: 0.553600\n",
      "Epoch 27, CIFAR-10 Batch 4:  Loss:     1.0220 Validation Accuracy: 0.566400\n",
      "Epoch 27, CIFAR-10 Batch 5:  Loss:     1.0156 Validation Accuracy: 0.543200\n",
      "Epoch 28, CIFAR-10 Batch 1:  Loss:     0.9501 Validation Accuracy: 0.556400\n",
      "Epoch 28, CIFAR-10 Batch 2:  Loss:     1.0642 Validation Accuracy: 0.561200\n",
      "Epoch 28, CIFAR-10 Batch 3:  Loss:     0.9508 Validation Accuracy: 0.570400\n",
      "Epoch 28, CIFAR-10 Batch 4:  Loss:     1.0130 Validation Accuracy: 0.579400\n",
      "Epoch 28, CIFAR-10 Batch 5:  Loss:     0.9951 Validation Accuracy: 0.549800\n",
      "Epoch 29, CIFAR-10 Batch 1:  Loss:     0.9150 Validation Accuracy: 0.574200\n",
      "Epoch 29, CIFAR-10 Batch 2:  Loss:     1.0407 Validation Accuracy: 0.555200\n",
      "Epoch 29, CIFAR-10 Batch 3:  Loss:     0.9329 Validation Accuracy: 0.568000\n",
      "Epoch 29, CIFAR-10 Batch 4:  Loss:     1.0408 Validation Accuracy: 0.556600\n",
      "Epoch 29, CIFAR-10 Batch 5:  Loss:     0.9157 Validation Accuracy: 0.573400\n",
      "Epoch 30, CIFAR-10 Batch 1:  Loss:     0.9167 Validation Accuracy: 0.574800\n",
      "Epoch 30, CIFAR-10 Batch 2:  Loss:     1.0911 Validation Accuracy: 0.531000\n",
      "Epoch 30, CIFAR-10 Batch 3:  Loss:     0.9413 Validation Accuracy: 0.572400\n",
      "Epoch 30, CIFAR-10 Batch 4:  Loss:     1.0275 Validation Accuracy: 0.561000\n",
      "Epoch 30, CIFAR-10 Batch 5:  Loss:     0.8861 Validation Accuracy: 0.557800\n",
      "Epoch 31, CIFAR-10 Batch 1:  Loss:     0.9110 Validation Accuracy: 0.560200\n",
      "Epoch 31, CIFAR-10 Batch 2:  Loss:     1.0805 Validation Accuracy: 0.542200\n",
      "Epoch 31, CIFAR-10 Batch 3:  Loss:     0.9445 Validation Accuracy: 0.561400\n",
      "Epoch 31, CIFAR-10 Batch 4:  Loss:     1.0042 Validation Accuracy: 0.559400\n",
      "Epoch 31, CIFAR-10 Batch 5:  Loss:     0.9262 Validation Accuracy: 0.546600\n",
      "Epoch 32, CIFAR-10 Batch 1:  Loss:     0.9011 Validation Accuracy: 0.574200\n",
      "Epoch 32, CIFAR-10 Batch 2:  Loss:     1.0618 Validation Accuracy: 0.549000\n",
      "Epoch 32, CIFAR-10 Batch 3:  Loss:     0.8945 Validation Accuracy: 0.579800\n",
      "Epoch 32, CIFAR-10 Batch 4:  Loss:     1.0009 Validation Accuracy: 0.577800\n",
      "Epoch 32, CIFAR-10 Batch 5:  Loss:     0.8543 Validation Accuracy: 0.573400\n",
      "Epoch 33, CIFAR-10 Batch 1:  Loss:     0.8691 Validation Accuracy: 0.574200\n",
      "Epoch 33, CIFAR-10 Batch 2:  Loss:     1.0078 Validation Accuracy: 0.544800\n",
      "Epoch 33, CIFAR-10 Batch 3:  Loss:     0.8707 Validation Accuracy: 0.572400\n",
      "Epoch 33, CIFAR-10 Batch 4:  Loss:     0.9842 Validation Accuracy: 0.566400\n",
      "Epoch 33, CIFAR-10 Batch 5:  Loss:     0.8374 Validation Accuracy: 0.584400\n",
      "Epoch 34, CIFAR-10 Batch 1:  Loss:     0.8606 Validation Accuracy: 0.564200\n",
      "Epoch 34, CIFAR-10 Batch 2:  Loss:     0.9775 Validation Accuracy: 0.572400\n",
      "Epoch 34, CIFAR-10 Batch 3:  Loss:     0.8907 Validation Accuracy: 0.562600\n",
      "Epoch 34, CIFAR-10 Batch 4:  Loss:     1.0044 Validation Accuracy: 0.556800\n",
      "Epoch 34, CIFAR-10 Batch 5:  Loss:     0.8436 Validation Accuracy: 0.583000\n",
      "Epoch 35, CIFAR-10 Batch 1:  Loss:     0.8970 Validation Accuracy: 0.575800\n",
      "Epoch 35, CIFAR-10 Batch 2:  Loss:     0.9695 Validation Accuracy: 0.560600\n",
      "Epoch 35, CIFAR-10 Batch 3:  Loss:     0.8544 Validation Accuracy: 0.582800\n",
      "Epoch 35, CIFAR-10 Batch 4:  Loss:     0.9593 Validation Accuracy: 0.578000\n",
      "Epoch 35, CIFAR-10 Batch 5:  Loss:     0.8759 Validation Accuracy: 0.570600\n",
      "Epoch 36, CIFAR-10 Batch 1:  Loss:     0.8428 Validation Accuracy: 0.570000\n",
      "Epoch 36, CIFAR-10 Batch 2:  Loss:     0.9493 Validation Accuracy: 0.563800\n",
      "Epoch 36, CIFAR-10 Batch 3:  Loss:     0.8365 Validation Accuracy: 0.581200\n",
      "Epoch 36, CIFAR-10 Batch 4:  Loss:     0.8724 Validation Accuracy: 0.582200\n",
      "Epoch 36, CIFAR-10 Batch 5:  Loss:     0.8450 Validation Accuracy: 0.585200\n",
      "Epoch 37, CIFAR-10 Batch 1:  Loss:     0.8300 Validation Accuracy: 0.576800\n",
      "Epoch 37, CIFAR-10 Batch 2:  Loss:     0.9499 Validation Accuracy: 0.569400\n",
      "Epoch 37, CIFAR-10 Batch 3:  Loss:     0.8446 Validation Accuracy: 0.579800\n",
      "Epoch 37, CIFAR-10 Batch 4:  Loss:     0.8870 Validation Accuracy: 0.570000\n",
      "Epoch 37, CIFAR-10 Batch 5:  Loss:     0.8083 Validation Accuracy: 0.582600\n",
      "Epoch 38, CIFAR-10 Batch 1:  Loss:     0.8139 Validation Accuracy: 0.580200\n",
      "Epoch 38, CIFAR-10 Batch 2:  Loss:     0.8979 Validation Accuracy: 0.563200\n",
      "Epoch 38, CIFAR-10 Batch 3:  Loss:     0.8167 Validation Accuracy: 0.566800\n",
      "Epoch 38, CIFAR-10 Batch 4:  Loss:     0.8715 Validation Accuracy: 0.564600\n",
      "Epoch 38, CIFAR-10 Batch 5:  Loss:     0.7592 Validation Accuracy: 0.584400\n",
      "Epoch 39, CIFAR-10 Batch 1:  Loss:     0.7933 Validation Accuracy: 0.576800\n",
      "Epoch 39, CIFAR-10 Batch 2:  Loss:     0.8732 Validation Accuracy: 0.559000\n",
      "Epoch 39, CIFAR-10 Batch 3:  Loss:     0.8313 Validation Accuracy: 0.573600\n",
      "Epoch 39, CIFAR-10 Batch 4:  Loss:     0.8471 Validation Accuracy: 0.567800\n",
      "Epoch 39, CIFAR-10 Batch 5:  Loss:     0.7639 Validation Accuracy: 0.580800\n",
      "Epoch 40, CIFAR-10 Batch 1:  Loss:     0.7845 Validation Accuracy: 0.594600\n",
      "Epoch 40, CIFAR-10 Batch 2:  Loss:     0.8962 Validation Accuracy: 0.557400\n",
      "Epoch 40, CIFAR-10 Batch 3:  Loss:     0.7754 Validation Accuracy: 0.587400\n",
      "Epoch 40, CIFAR-10 Batch 4:  Loss:     0.8483 Validation Accuracy: 0.586600\n",
      "Epoch 40, CIFAR-10 Batch 5:  Loss:     0.7266 Validation Accuracy: 0.601600\n",
      "Epoch 41, CIFAR-10 Batch 1:  Loss:     0.7864 Validation Accuracy: 0.585800\n",
      "Epoch 41, CIFAR-10 Batch 2:  Loss:     0.8389 Validation Accuracy: 0.575000\n",
      "Epoch 41, CIFAR-10 Batch 3:  Loss:     0.8265 Validation Accuracy: 0.558800\n",
      "Epoch 41, CIFAR-10 Batch 4:  Loss:     0.8383 Validation Accuracy: 0.581800\n",
      "Epoch 41, CIFAR-10 Batch 5:  Loss:     0.7563 Validation Accuracy: 0.587800\n",
      "Epoch 42, CIFAR-10 Batch 1:  Loss:     0.7945 Validation Accuracy: 0.592000\n",
      "Epoch 42, CIFAR-10 Batch 2:  Loss:     0.8734 Validation Accuracy: 0.558200\n",
      "Epoch 42, CIFAR-10 Batch 3:  Loss:     0.7340 Validation Accuracy: 0.572800\n",
      "Epoch 42, CIFAR-10 Batch 4:  Loss:     0.8556 Validation Accuracy: 0.570400\n",
      "Epoch 42, CIFAR-10 Batch 5:  Loss:     0.7249 Validation Accuracy: 0.593000\n",
      "Epoch 43, CIFAR-10 Batch 1:  Loss:     0.7350 Validation Accuracy: 0.586400\n",
      "Epoch 43, CIFAR-10 Batch 2:  Loss:     0.8852 Validation Accuracy: 0.548600\n",
      "Epoch 43, CIFAR-10 Batch 3:  Loss:     0.7170 Validation Accuracy: 0.579800\n",
      "Epoch 43, CIFAR-10 Batch 4:  Loss:     0.7955 Validation Accuracy: 0.579400\n",
      "Epoch 43, CIFAR-10 Batch 5:  Loss:     0.7154 Validation Accuracy: 0.598000\n",
      "Epoch 44, CIFAR-10 Batch 1:  Loss:     0.7393 Validation Accuracy: 0.603600\n",
      "Epoch 44, CIFAR-10 Batch 2:  Loss:     0.8097 Validation Accuracy: 0.583200\n",
      "Epoch 44, CIFAR-10 Batch 3:  Loss:     0.7232 Validation Accuracy: 0.590000\n",
      "Epoch 44, CIFAR-10 Batch 4:  Loss:     0.8055 Validation Accuracy: 0.587600\n",
      "Epoch 44, CIFAR-10 Batch 5:  Loss:     0.7364 Validation Accuracy: 0.594800\n",
      "Epoch 45, CIFAR-10 Batch 1:  Loss:     0.7323 Validation Accuracy: 0.579400\n",
      "Epoch 45, CIFAR-10 Batch 2:  Loss:     0.8555 Validation Accuracy: 0.582800\n",
      "Epoch 45, CIFAR-10 Batch 3:  Loss:     0.7018 Validation Accuracy: 0.587200\n",
      "Epoch 45, CIFAR-10 Batch 4:  Loss:     0.7353 Validation Accuracy: 0.594600\n",
      "Epoch 45, CIFAR-10 Batch 5:  Loss:     0.6924 Validation Accuracy: 0.601000\n"
     ]
    }
   ],
   "source": [
    "\"\"\"\n",
    "DON'T MODIFY ANYTHING IN THIS CELL\n",
    "\"\"\"\n",
    "save_model_path = './image_classification'\n",
    "\n",
    "print('Training...')\n",
    "with tf.Session() as sess:\n",
    "    # Initializing the variables\n",
    "    sess.run(tf.global_variables_initializer())\n",
    "    \n",
    "    # Training cycle\n",
    "    for epoch in range(epochs):\n",
    "        # Loop over all batches\n",
    "        n_batches = 5\n",
    "        for batch_i in range(1, n_batches + 1):\n",
    "            for batch_features, batch_labels in helper.load_preprocess_training_batch(batch_i, batch_size):\n",
    "                train_neural_network(sess, optimizer, keep_probability, batch_features, batch_labels)\n",
    "            print('Epoch {:>2}, CIFAR-10 Batch {}:  '.format(epoch + 1, batch_i), end='')\n",
    "            print_stats(sess, batch_features, batch_labels, cost, accuracy)\n",
    "            \n",
    "    # Save Model\n",
    "    saver = tf.train.Saver()\n",
    "    save_path = saver.save(sess, save_model_path)"
   ]
  },
  {
   "cell_type": "markdown",
   "metadata": {},
   "source": [
    "# Checkpoint\n",
    "The model has been saved to disk.\n",
    "## Test Model\n",
    "Test your model against the test dataset.  This will be your final accuracy. You should have an accuracy greater than 50%. If you don't, keep tweaking the model architecture and parameters."
   ]
  },
  {
   "cell_type": "code",
   "execution_count": 25,
   "metadata": {
    "collapsed": false
   },
   "outputs": [
    {
     "name": "stdout",
     "output_type": "stream",
     "text": [
      "INFO:tensorflow:Restoring parameters from ./image_classification\n",
      "Testing Accuracy: 0.5997824367088608\n",
      "\n"
     ]
    },
    {
     "data": {
      "image/png": "[encoded data removed]",
      "text/plain": [
       "<matplotlib.figure.Figure at 0x11562ddd8>"
      ]
     },
     "metadata": {
      "image/png": {
       "height": 319,
       "width": 355
      }
     },
     "output_type": "display_data"
    }
   ],
   "source": [
    "\"\"\"\n",
    "DON'T MODIFY ANYTHING IN THIS CELL\n",
    "\"\"\"\n",
    "%matplotlib inline\n",
    "%config InlineBackend.figure_format = 'retina'\n",
    "\n",
    "import tensorflow as tf\n",
    "import pickle\n",
    "import helper\n",
    "import random\n",
    "\n",
    "# Set batch size if not already set\n",
    "try:\n",
    "    if batch_size:\n",
    "        pass\n",
    "except NameError:\n",
    "    batch_size = 64\n",
    "\n",
    "save_model_path = './image_classification'\n",
    "n_samples = 4\n",
    "top_n_predictions = 3\n",
    "\n",
    "def test_model():\n",
    "    \"\"\"\n",
    "    Test the saved model against the test dataset\n",
    "    \"\"\"\n",
    "\n",
    "    test_features, test_labels = pickle.load(open('preprocess_test.p', mode='rb'))\n",
    "    loaded_graph = tf.Graph()\n",
    "\n",
    "    with tf.Session(graph=loaded_graph) as sess:\n",
    "        # Load model\n",
    "        loader = tf.train.import_meta_graph(save_model_path + '.meta')\n",
    "        loader.restore(sess, save_model_path)\n",
    "\n",
    "        # Get Tensors from loaded model\n",
    "        loaded_x = loaded_graph.get_tensor_by_name('x:0')\n",
    "        loaded_y = loaded_graph.get_tensor_by_name('y:0')\n",
    "        loaded_keep_prob = loaded_graph.get_tensor_by_name('keep_prob:0')\n",
    "        loaded_logits = loaded_graph.get_tensor_by_name('logits:0')\n",
    "        loaded_acc = loaded_graph.get_tensor_by_name('accuracy:0')\n",
    "        \n",
    "        # Get accuracy in batches for memory limitations\n",
    "        test_batch_acc_total = 0\n",
    "        test_batch_count = 0\n",
    "        \n",
    "        for test_feature_batch, test_label_batch in helper.batch_features_labels(test_features, test_labels, batch_size):\n",
    "            test_batch_acc_total += sess.run(\n",
    "                loaded_acc,\n",
    "                feed_dict={loaded_x: test_feature_batch, loaded_y: test_label_batch, loaded_keep_prob: 1.0})\n",
    "            test_batch_count += 1\n",
    "\n",
    "        print('Testing Accuracy: {}\\n'.format(test_batch_acc_total/test_batch_count))\n",
    "\n",
    "        # Print Random Samples\n",
    "        random_test_features, random_test_labels = tuple(zip(*random.sample(list(zip(test_features, test_labels)), n_samples)))\n",
    "        random_test_predictions = sess.run(\n",
    "            tf.nn.top_k(tf.nn.softmax(loaded_logits), top_n_predictions),\n",
    "            feed_dict={loaded_x: random_test_features, loaded_y: random_test_labels, loaded_keep_prob: 1.0})\n",
    "        helper.display_image_predictions(random_test_features, random_test_labels, random_test_predictions)\n",
    "\n",
    "\n",
    "test_model()"
   ]
  },
  {
   "cell_type": "markdown",
   "metadata": {},
   "source": [
    "## Why 50-80% Accuracy?\n",
    "You might be wondering why you can't get an accuracy any higher. First things first, 50% isn't bad for a simple CNN.  Pure guessing would get you 10% accuracy. However, you might notice people are getting scores [well above 80%](http://rodrigob.github.io/are_we_there_yet/build/classification_datasets_results.html#43494641522d3130).  That's because we haven't taught you all there is to know about neural networks. We still need to cover a few more techniques.\n",
    "## Submitting This Project\n",
    "When submitting this project, make sure to run all the cells before saving the notebook.  Save the notebook file as \"dlnd_image_classification.ipynb\" and save it as a HTML file under \"File\" -> \"Download as\".  Include the \"helper.py\" and \"problem_unittests.py\" files in your submission."
   ]
  },
  {
   "cell_type": "code",
   "execution_count": null,
   "metadata": {
    "collapsed": true
   },
   "outputs": [],
   "source": []
  },
  {
   "cell_type": "code",
   "execution_count": null,
   "metadata": {
    "collapsed": true
   },
   "outputs": [],
   "source": []
  },
  {
   "cell_type": "code",
   "execution_count": null,
   "metadata": {
    "collapsed": true
   },
   "outputs": [],
   "source": []
  }
 ],
 "metadata": {
  "kernelspec": {
   "display_name": "Python 3",
   "language": "python",
   "name": "python3"
  },
  "language_info": {
   "codemirror_mode": {
    "name": "ipython",
    "version": 3
   },
   "file_extension": ".py",
   "mimetype": "text/x-python",
   "name": "python",
   "nbconvert_exporter": "python",
   "pygments_lexer": "ipython3",
   "version": "3.6.0"
  }
 },
 "nbformat": 4,
 "nbformat_minor": 0
}
